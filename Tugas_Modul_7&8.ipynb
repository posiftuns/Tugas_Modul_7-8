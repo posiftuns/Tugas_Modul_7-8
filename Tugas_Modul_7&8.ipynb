{
 "cells": [
  {
   "cell_type": "markdown",
   "metadata": {},
   "source": [
    "***\n",
    "<h1 align=\"center\">Tugas 8</h1>\n",
    " \n",
    "***"
   ]
  },
  {
   "cell_type": "markdown",
   "metadata": {},
   "source": [
    "Nama&nbsp;&nbsp;: ... <br>\n",
    "NIM&emsp;&nbsp;: ...<br>\n",
    "Kelas&nbsp;&nbsp;&nbsp;: ..."
   ]
  },
  {
   "cell_type": "markdown",
   "metadata": {},
   "source": [
    "## Mengerjakan Tugas\n",
    "Pada *file* **Jupyter Notebook** ini, kalian akan mengerjakan tugas terkait Modul 8, yaitu Penanganan Eksepsi. Pengerjaan tugas dapat dilakukan dengan memperhatikan soal dan petunjuk yang sudah diberikan. Dimohon untuk membaca dan memperhatikan setiap kriteria soal supaya mampu mendapatkan hasil yang maksimal. Harap kerjakan tugas secara mandiri dan bersungguh-sungguh.\n",
    "\n",
    "Selamat mengerjakan!"
   ]
  },
  {
   "cell_type": "markdown",
   "metadata": {},
   "source": [
    "## SOAL 1\n"
   ]
  },
  {
   "cell_type": "markdown",
   "metadata": {},
   "source": [
    "Buatkan program sederhana berbahasa Python dengan kriteria dan mekanisme kerja seperti di bawah ini:\n",
    "- Pengguna menginputkan angka positif\n",
    "- Jika pengguna menginputkan angka di bawah 0 (negatif) atau selain angka, maka akan muncul eksepsi dengan kategori `ValueError`\n",
    "- Program memberikan penanganan eksepsi: Munculnya pesan \"Error: Terjadi kesalahan input!\" (tercetak biasa menggunakan `print()`), dan menjalankan ulang program (*loop*), dan jika program berhasil dijalankan, maka program akan mencetak angka\n",
    "- Jika program sudah selesai dijalankan, program memberikan pesan \"Program selesai\"\n",
    "\n",
    "Hasil yang diharapkan:\n",
    "\n",
    "![Hasil yang diharapkan (soal 1)](\\assets\\expected-output_1.png)"
   ]
  },
  {
   "cell_type": "markdown",
   "metadata": {},
   "source": [
    "Jawaban:"
   ]
  },
  {
   "cell_type": "code",
   "execution_count": null,
   "metadata": {},
   "outputs": [],
   "source": [
    "# Buat kode program di sini\n",
    "\n",
    "def main():\n",
    "    def input_angka():\n",
    "        global angka\n",
    "        angka = int(input(\"Masukkan angka positif\"))\n",
    "        if ...:\n",
    "            ...\n",
    "    try:\n",
    "        ...\n",
    "    except ...:\n",
    "        ...\n",
    "    else:\n",
    "        ...\n",
    "\n",
    "main()\n",
    "\n",
    "# Hint:\n",
    "# Keyword global berfungsi untuk membuat sebuah variabel yang dimiliki oleh suatu fungsi dapat diakses oleh program di luar fungsi terkait."
   ]
  },
  {
   "cell_type": "markdown",
   "metadata": {},
   "source": [
    "## SOAL 2\n"
   ]
  },
  {
   "cell_type": "markdown",
   "metadata": {},
   "source": [
    "Perhatikan dan jalankan kode program di bawah ini!"
   ]
  },
  {
   "cell_type": "code",
   "execution_count": null,
   "metadata": {},
   "outputs": [],
   "source": [
    "myfile = open(\"myfile.txt\", \"r\")"
   ]
  },
  {
   "cell_type": "markdown",
   "metadata": {},
   "source": [
    "Baris kode tersebut merupakan kode berupa perintah membaca suatu file bernama \"myfile.txt\". Namun, muncul ***runtime error*** ketika dieksekusi. *Error* tersebut menyatakan bahwa file \"myfile.txt\" tidak ditemukan. Oleh karena itu, modifikasi kode program tersebut dengan memberikan penanganan eksepsi, berupa:\n",
    "- Skenario 1: Jika file belum ada, program membuat file bernama \"myfile.txt\" dan secara *default* berisi kalimat \"Hello, World!\", kemudian muncul pesan '\"myfile.txt\" terbuat'\n",
    "- Skenario 2: Jika file sudah ada, program memberikan *feedback* berupa mencetak apa yang ada di dalam file tersebut!\n",
    "- Jika program sudah selesai dijalankan, program memberikan feedback \"Program selesai\"\n",
    "\n",
    "Hasil yang diharapkan:\n",
    "- Skenario 1: Jika file belum ada\n",
    "\n",
    "![Hasil yang diharapkan (soal 1)](\\assets\\expected-output_2(1).gif)\n",
    "\n",
    "\n",
    "- Skenario 2: Jika file sudah ada\n",
    "\n",
    "![Hasil yang diharapkan (soal 2)](\\assets\\expected-output_2(2).gif)"
   ]
  },
  {
   "cell_type": "markdown",
   "metadata": {},
   "source": [
    "Jawaban:"
   ]
  },
  {
   "cell_type": "code",
   "execution_count": null,
   "metadata": {},
   "outputs": [],
   "source": [
    "# Buat kode program di sini\n",
    "\n",
    "try:\n",
    "    myfile = ...(\"myfile.txt\", ...)\n",
    "except FileNotFoundError :\n",
    "    myfile = ...(\"myfile.txt\", ...)\n",
    "    ... # Menulis isi file dengan konten default, yaitu kalimat \"Hello, World!\"\n",
    "    ... # Menutup file\n",
    "    ... # Memunculkan pesan '\"myfile.txt\" terbuat'\n",
    "else:\n",
    "    print(\"============================\")\n",
    "    print(...) # Membaca isi file\n",
    "    print(\"============================\")\n",
    "finally:\n",
    "    ... # Memunculkan pesan \"Program selesai\""
   ]
  },
  {
   "cell_type": "markdown",
   "metadata": {},
   "source": [
    "## SOAL 3\n"
   ]
  },
  {
   "cell_type": "markdown",
   "metadata": {},
   "source": [
    "Danil, Bagus, dan Whisnu sedang melakukan persiapan untuk projek analitika data. Projek tersebut dibagi menjadi beberapa bagian sehingga mereka memiliki tanggung jawab dan *jobdesc*-nya masing-masing. Danil bertugas pada bagian kesiapan data, Bagus bertugas pada bagian pengolahan data, dan Whisnu bertugas pada bagian analisis. Mereka menggunakan Jupyter Notebook untuk membuat projek mereka. Danil, sebagai penanggung jawab bagian persiapan data, segera menyelesaikan bagiannya dan memberikan hasil pekerjaannya kepada Bagus dan Wisnu untuk dilanjutkan ke tahap selanjutnya. Akan tetapi, ketika *file* projek dari Danil dibuka dan dijalankan menggunakan laptop Bagus, muncul sebuah *error*. Berikut adalah gambar *screenshot* yang menunjukkan *error* pada *file* Jupyter Notebook projek Danil ketika dijalankan di laptop Bagus.\n",
    "\n",
    "![Soal 3](\\assets\\soal-3(1).png)"
   ]
  },
  {
   "cell_type": "markdown",
   "metadata": {},
   "source": [
    "Berdasarkan masalah tersebut, Danil berinisiatif untuk memperbaiki program yang dia buat dengan memanfaatkan penanganan eksepsi supaya ketika *file* projek tersebut diakses oleh orang lain, mereka tidak perlu repot mengatasi *error* tersebut sendiri. Oleh karena itu, bantu Danil memperbaiki program yang dia buat memanfaatkan penanganan eksepsi dengan kriteria program seperti berikut:\n",
    "\n",
    "- Jika perangkat *user* belum terinstal Pandas, program akan melakukan instalasi *library* Pandas ketika *user* menjalankan *cell* kode Import Pandas. Jika proses instalasi sudah selesai, program memberikan pesan **\"Install Pandas succesfully.\"** dan **\"Import Pandas successfully.\"**\n",
    "- Jika perangkat *user* sudah terinstal Pandas, program akan melakukan *import* *library* Pandas dan program memberikan pesan **\"Import Pandas successfully.\"**\n",
    "- Ketika *user* selesai melakukan *import* Pandas dan menjalankan *cell* kode Dataset, program akan memunculkan *output* seperti gambar di bawah ini.\n",
    "\n",
    "![Hasil yang diharapkan (soal 3)](\\assets\\expected-output_3.png)\n",
    "\n",
    "Hint: Gunakan `!` untuk perintah *install* *library* selayaknya di terminal dengan format `! pip install nama_library`"
   ]
  },
  {
   "cell_type": "markdown",
   "metadata": {},
   "source": [
    "Jawaban:"
   ]
  },
  {
   "cell_type": "markdown",
   "metadata": {},
   "source": [
    "Import Pandas"
   ]
  },
  {
   "cell_type": "code",
   "execution_count": null,
   "metadata": {},
   "outputs": [],
   "source": [
    "import pandas"
   ]
  },
  {
   "cell_type": "markdown",
   "metadata": {},
   "source": [
    "Dataset"
   ]
  },
  {
   "cell_type": "code",
   "execution_count": null,
   "metadata": {},
   "outputs": [],
   "source": [
    "dataset = {\n",
    "  'products': [\"A\", \"B\", \"C\", \"D\"],\n",
    "  'stock': [10, 17, 8, 5]\n",
    "}\n",
    "\n",
    "tabel = pandas.DataFrame(dataset)\n",
    "\n",
    "print(tabel)"
   ]
  },
  {
   "cell_type": "markdown",
   "metadata": {},
   "source": [
    "## SOAL 4\n"
   ]
  },
  {
   "cell_type": "markdown",
   "metadata": {},
   "source": [
    "### Studi Kasus: Pengelolaan Data Penjualan\n"
   ]
  },
  {
   "cell_type": "markdown",
   "metadata": {},
   "source": [
    "Deskripsi Masalah:<br>\n",
    "Sebuah perusahaan ritel memiliki banyak toko di seluruh kota. Mereka ingin mengelola data penjualan mereka dengan lebih efisien. Data ini mencakup informasi tentang produk yang dijual, jumlah produk yang terjual, harga, dan informasi lainnya.<br><br> Perusahaan ini ingin membuat program Python yang memungkinkan mereka untuk:<br>\n",
    "- Memasukkan data penjualan baru.<br>\n",
    "- Melihat laporan penjualan bulanan.<br>\n",
    "- Menghitung total penjualan untuk produk tertentu.<br>\n",
    "- Melihat statistik penjualan, seperti produk terlaris atau rata-rata penjualan bulanan.<br>"
   ]
  },
  {
   "cell_type": "markdown",
   "metadata": {},
   "source": [
    "Struktur Program :<br>\n",
    "- Buat paket bernama sales_management.<br>\n",
    "- Dalam paket tersebut, buat modul-modul berikut:<br>\n",
    "data.py: untuk menyimpan data penjualan.<br>\n",
    "input.py: untuk menerima input data penjualan baru.<br>\n",
    "reports.py: untuk menghasilkan laporan penjualan.<br>\n",
    "statistics.py: untuk menghitung statistik penjualan.<br>\n"
   ]
  },
  {
   "cell_type": "markdown",
   "metadata": {},
   "source": [
    "Rincian modul :\n",
    "- Modul data.py: <br>\n",
    "Buat fungsi-fungsi yang diantara lain untuk menambahkan data baru, menyimpan data ke file, dan memuat data dari file.<br>\n",
    "- Modul input.py:<br>\n",
    "Buat fungsi-fungsi untuk menerima input data penjualan baru dari pengguna.<br>\n",
    "Validasi input untuk memastikan data yang dimasukkan benar.<br>\n",
    "- Modul reports.py:<br>\n",
    "Buat fungsi-fungsi untuk menghasilkan laporan penjualan bulanan.<br>\n",
    "Laporan ini bisa diprint atau disimpan ke file.<br>\n",
    "- Modul statistics.py:<br>\n",
    "Buat fungsi-fungsi untuk menghitung statistik penjualan, contoh seperti total penjualan, produk terlaris, dan rata-rata penjualan bulanan."
   ]
  },
  {
   "cell_type": "markdown",
   "metadata": {},
   "source": [
    "Ketentuan :\n",
    "- Bebas menggunakan library apa saja dalam pengerjaan tugas. \n",
    "- Format file data yang digunakan bebas.\n",
    "- Program dikerjakan dan dibuat di folder baru dengan format penamaan \"NIM_Soal_2\"\n",
    "- Di dalam folder baru tersebut berisi :\n",
    "1. Program utama (main_program.py).\n",
    "2. Folder package (Berisi modul-modul).\n",
    "3. File data (eg : CSV,xlsx, dll)"
   ]
  },
  {
   "cell_type": "markdown",
   "metadata": {},
   "source": [
    "***\n",
    "<h1 align=\"center\">Selamat Mengerjakan!</h1>\n",
    " \n",
    "***"
   ]
  }
 ],
 "metadata": {
  "kernelspec": {
   "display_name": "Python 3",
   "language": "python",
   "name": "python3"
  },
  "language_info": {
   "codemirror_mode": {
    "name": "ipython",
    "version": 3
   },
   "file_extension": ".py",
   "mimetype": "text/x-python",
   "name": "python",
   "nbconvert_exporter": "python",
   "pygments_lexer": "ipython3",
   "version": "3.11.5"
  }
 },
 "nbformat": 4,
 "nbformat_minor": 2
}
